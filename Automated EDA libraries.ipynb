{
 "cells": [
  {
   "cell_type": "markdown",
   "metadata": {},
   "source": [
    "# Dtale"
   ]
  },
  {
   "cell_type": "code",
   "execution_count": 2,
   "metadata": {},
   "outputs": [],
   "source": [
    "import seaborn as sns\n",
    "df=sns.load_dataset('titanic')"
   ]
  },
  {
   "cell_type": "code",
   "execution_count": 3,
   "metadata": {},
   "outputs": [
    {
     "data": {
      "text/html": [
       "<div>\n",
       "<style scoped>\n",
       "    .dataframe tbody tr th:only-of-type {\n",
       "        vertical-align: middle;\n",
       "    }\n",
       "\n",
       "    .dataframe tbody tr th {\n",
       "        vertical-align: top;\n",
       "    }\n",
       "\n",
       "    .dataframe thead th {\n",
       "        text-align: right;\n",
       "    }\n",
       "</style>\n",
       "<table border=\"1\" class=\"dataframe\">\n",
       "  <thead>\n",
       "    <tr style=\"text-align: right;\">\n",
       "      <th></th>\n",
       "      <th>survived</th>\n",
       "      <th>pclass</th>\n",
       "      <th>sex</th>\n",
       "      <th>age</th>\n",
       "      <th>sibsp</th>\n",
       "      <th>parch</th>\n",
       "      <th>fare</th>\n",
       "      <th>embarked</th>\n",
       "      <th>class</th>\n",
       "      <th>who</th>\n",
       "      <th>adult_male</th>\n",
       "      <th>deck</th>\n",
       "      <th>embark_town</th>\n",
       "      <th>alive</th>\n",
       "      <th>alone</th>\n",
       "    </tr>\n",
       "  </thead>\n",
       "  <tbody>\n",
       "    <tr>\n",
       "      <th>0</th>\n",
       "      <td>0</td>\n",
       "      <td>3</td>\n",
       "      <td>male</td>\n",
       "      <td>22.0</td>\n",
       "      <td>1</td>\n",
       "      <td>0</td>\n",
       "      <td>7.2500</td>\n",
       "      <td>S</td>\n",
       "      <td>Third</td>\n",
       "      <td>man</td>\n",
       "      <td>True</td>\n",
       "      <td>NaN</td>\n",
       "      <td>Southampton</td>\n",
       "      <td>no</td>\n",
       "      <td>False</td>\n",
       "    </tr>\n",
       "    <tr>\n",
       "      <th>1</th>\n",
       "      <td>1</td>\n",
       "      <td>1</td>\n",
       "      <td>female</td>\n",
       "      <td>38.0</td>\n",
       "      <td>1</td>\n",
       "      <td>0</td>\n",
       "      <td>71.2833</td>\n",
       "      <td>C</td>\n",
       "      <td>First</td>\n",
       "      <td>woman</td>\n",
       "      <td>False</td>\n",
       "      <td>C</td>\n",
       "      <td>Cherbourg</td>\n",
       "      <td>yes</td>\n",
       "      <td>False</td>\n",
       "    </tr>\n",
       "    <tr>\n",
       "      <th>2</th>\n",
       "      <td>1</td>\n",
       "      <td>3</td>\n",
       "      <td>female</td>\n",
       "      <td>26.0</td>\n",
       "      <td>0</td>\n",
       "      <td>0</td>\n",
       "      <td>7.9250</td>\n",
       "      <td>S</td>\n",
       "      <td>Third</td>\n",
       "      <td>woman</td>\n",
       "      <td>False</td>\n",
       "      <td>NaN</td>\n",
       "      <td>Southampton</td>\n",
       "      <td>yes</td>\n",
       "      <td>True</td>\n",
       "    </tr>\n",
       "    <tr>\n",
       "      <th>3</th>\n",
       "      <td>1</td>\n",
       "      <td>1</td>\n",
       "      <td>female</td>\n",
       "      <td>35.0</td>\n",
       "      <td>1</td>\n",
       "      <td>0</td>\n",
       "      <td>53.1000</td>\n",
       "      <td>S</td>\n",
       "      <td>First</td>\n",
       "      <td>woman</td>\n",
       "      <td>False</td>\n",
       "      <td>C</td>\n",
       "      <td>Southampton</td>\n",
       "      <td>yes</td>\n",
       "      <td>False</td>\n",
       "    </tr>\n",
       "    <tr>\n",
       "      <th>4</th>\n",
       "      <td>0</td>\n",
       "      <td>3</td>\n",
       "      <td>male</td>\n",
       "      <td>35.0</td>\n",
       "      <td>0</td>\n",
       "      <td>0</td>\n",
       "      <td>8.0500</td>\n",
       "      <td>S</td>\n",
       "      <td>Third</td>\n",
       "      <td>man</td>\n",
       "      <td>True</td>\n",
       "      <td>NaN</td>\n",
       "      <td>Southampton</td>\n",
       "      <td>no</td>\n",
       "      <td>True</td>\n",
       "    </tr>\n",
       "  </tbody>\n",
       "</table>\n",
       "</div>"
      ],
      "text/plain": [
       "   survived  pclass     sex   age  sibsp  parch     fare embarked  class  \\\n",
       "0         0       3    male  22.0      1      0   7.2500        S  Third   \n",
       "1         1       1  female  38.0      1      0  71.2833        C  First   \n",
       "2         1       3  female  26.0      0      0   7.9250        S  Third   \n",
       "3         1       1  female  35.0      1      0  53.1000        S  First   \n",
       "4         0       3    male  35.0      0      0   8.0500        S  Third   \n",
       "\n",
       "     who  adult_male deck  embark_town alive  alone  \n",
       "0    man        True  NaN  Southampton    no  False  \n",
       "1  woman       False    C    Cherbourg   yes  False  \n",
       "2  woman       False  NaN  Southampton   yes   True  \n",
       "3  woman       False    C  Southampton   yes  False  \n",
       "4    man        True  NaN  Southampton    no   True  "
      ]
     },
     "execution_count": 3,
     "metadata": {},
     "output_type": "execute_result"
    }
   ],
   "source": [
    "df.head()"
   ]
  },
  {
   "cell_type": "code",
   "execution_count": 5,
   "metadata": {},
   "outputs": [
    {
     "name": "stdout",
     "output_type": "stream",
     "text": [
      "Requirement already satisfied: dtale in c:\\users\\l\\anaconda3\\lib\\site-packages (1.43.0)\n",
      "Requirement already satisfied: squarify in c:\\users\\l\\anaconda3\\lib\\site-packages (from dtale) (0.4.3)\n",
      "Requirement already satisfied: flask-ngrok; python_version > \"3.0\" in c:\\users\\l\\anaconda3\\lib\\site-packages (from dtale) (0.0.25)\n",
      "Requirement already satisfied: pandas in c:\\users\\l\\anaconda3\\lib\\site-packages (from dtale) (1.2.4)\n",
      "Requirement already satisfied: seaborn; python_version >= \"3.6\" in c:\\users\\l\\anaconda3\\lib\\site-packages (from dtale) (0.11.1)\n",
      "Requirement already satisfied: dash>=1.5.0 in c:\\users\\l\\anaconda3\\lib\\site-packages (from dtale) (1.17.0)\n",
      "Requirement already satisfied: missingno in c:\\users\\l\\anaconda3\\lib\\site-packages (from dtale) (0.4.2)\n",
      "Requirement already satisfied: itsdangerous in c:\\users\\l\\anaconda3\\lib\\site-packages (from dtale) (1.1.0)\n",
      "Requirement already satisfied: requests in c:\\users\\l\\anaconda3\\lib\\site-packages (from dtale) (2.24.0)\n",
      "Requirement already satisfied: strsimpy in c:\\users\\l\\anaconda3\\lib\\site-packages (from dtale) (0.2.0)\n",
      "Requirement already satisfied: xarray; python_version >= \"3.0\" in c:\\users\\l\\anaconda3\\lib\\site-packages (from dtale) (0.17.0)\n",
      "Requirement already satisfied: scikit-learn in c:\\users\\l\\anaconda3\\lib\\site-packages (from dtale) (0.23.1)\n",
      "Requirement already satisfied: statsmodels; python_version > \"3.0\" in c:\\users\\l\\anaconda3\\lib\\site-packages (from dtale) (0.12.2)\n",
      "Requirement already satisfied: six in c:\\users\\l\\anaconda3\\lib\\site-packages (from dtale) (1.15.0)\n",
      "Requirement already satisfied: lz4; python_version > \"3.0\" in c:\\users\\l\\anaconda3\\lib\\site-packages (from dtale) (3.1.3)\n",
      "Requirement already satisfied: scipy in c:\\users\\l\\anaconda3\\lib\\site-packages (from dtale) (1.5.4)\n",
      "Requirement already satisfied: dash-daq in c:\\users\\l\\anaconda3\\lib\\site-packages (from dtale) (0.5.0)\n",
      "Requirement already satisfied: xlrd in c:\\users\\l\\anaconda3\\lib\\site-packages (from dtale) (1.2.0)\n",
      "Requirement already satisfied: dash-bootstrap-components; python_version > \"3.0\" in c:\\users\\l\\anaconda3\\lib\\site-packages (from dtale) (0.9.1)\n",
      "Requirement already satisfied: kaleido; python_version > \"3.6\" in c:\\users\\l\\anaconda3\\lib\\site-packages (from dtale) (0.2.1)\n",
      "Requirement already satisfied: dash-colorscales in c:\\users\\l\\anaconda3\\lib\\site-packages (from dtale) (0.0.4)\n",
      "Requirement already satisfied: ppscore; python_version >= \"3.6\" in c:\\users\\l\\anaconda3\\lib\\site-packages (from dtale) (1.2.0)\n",
      "Requirement already satisfied: plotly>=4.9.0 in c:\\users\\l\\anaconda3\\lib\\site-packages (from dtale) (4.12.0)\n",
      "Requirement already satisfied: Flask>=1.0 in c:\\users\\l\\anaconda3\\lib\\site-packages (from dtale) (1.1.2)\n",
      "Requirement already satisfied: networkx; python_version >= \"3.0\" in c:\\users\\l\\anaconda3\\lib\\site-packages (from dtale) (2.5.1)\n",
      "Requirement already satisfied: Flask-Compress in c:\\users\\l\\anaconda3\\lib\\site-packages (from dtale) (1.9.0)\n",
      "Requirement already satisfied: future>=0.14.0 in c:\\users\\l\\anaconda3\\lib\\site-packages (from dtale) (0.18.2)\n",
      "Requirement already satisfied: openpyxl; python_version >= \"3.0\" in c:\\users\\l\\anaconda3\\lib\\site-packages (from dtale) (3.0.4)\n",
      "Requirement already satisfied: pytz>=2017.3 in c:\\users\\l\\anaconda3\\lib\\site-packages (from pandas->dtale) (2020.1)\n",
      "Requirement already satisfied: python-dateutil>=2.7.3 in c:\\users\\l\\anaconda3\\lib\\site-packages (from pandas->dtale) (2.8.1)\n",
      "Requirement already satisfied: numpy>=1.16.5 in c:\\users\\l\\anaconda3\\lib\\site-packages (from pandas->dtale) (1.19.1)\n",
      "Requirement already satisfied: matplotlib>=2.2 in c:\\users\\l\\anaconda3\\lib\\site-packages (from seaborn; python_version >= \"3.6\"->dtale) (3.4.1)\n",
      "Requirement already satisfied: dash-renderer==1.8.3 in c:\\users\\l\\anaconda3\\lib\\site-packages (from dash>=1.5.0->dtale) (1.8.3)\n",
      "Requirement already satisfied: dash-core-components==1.13.0 in c:\\users\\l\\anaconda3\\lib\\site-packages (from dash>=1.5.0->dtale) (1.13.0)\n",
      "Requirement already satisfied: dash-html-components==1.1.1 in c:\\users\\l\\anaconda3\\lib\\site-packages (from dash>=1.5.0->dtale) (1.1.1)\n",
      "Requirement already satisfied: dash-table==4.11.0 in c:\\users\\l\\anaconda3\\lib\\site-packages (from dash>=1.5.0->dtale) (4.11.0)\n",
      "Requirement already satisfied: chardet<4,>=3.0.2 in c:\\users\\l\\anaconda3\\lib\\site-packages (from requests->dtale) (3.0.4)\n",
      "Requirement already satisfied: urllib3!=1.25.0,!=1.25.1,<1.26,>=1.21.1 in c:\\users\\l\\anaconda3\\lib\\site-packages (from requests->dtale) (1.25.9)\n",
      "Requirement already satisfied: certifi>=2017.4.17 in c:\\users\\l\\anaconda3\\lib\\site-packages (from requests->dtale) (2020.6.20)\n",
      "Requirement already satisfied: idna<3,>=2.5 in c:\\users\\l\\anaconda3\\lib\\site-packages (from requests->dtale) (2.10)"
     ]
    },
    {
     "name": "stderr",
     "output_type": "stream",
     "text": [
      "ERROR: Error checking for conflicts.\n",
      "Traceback (most recent call last):\n",
      "  File \"C:\\Users\\l\\anaconda3\\lib\\site-packages\\pip\\_vendor\\pkg_resources\\__init__.py\", line 3021, in _dep_map\n",
      "    return self.__dep_map\n",
      "  File \"C:\\Users\\l\\anaconda3\\lib\\site-packages\\pip\\_vendor\\pkg_resources\\__init__.py\", line 2815, in __getattr__\n",
      "    raise AttributeError(attr)\n",
      "AttributeError: _DistInfoDistribution__dep_map\n",
      "\n",
      "During handling of the above exception, another exception occurred:\n",
      "\n",
      "Traceback (most recent call last):\n",
      "  File \"C:\\Users\\l\\anaconda3\\lib\\site-packages\\pip\\_vendor\\pkg_resources\\__init__.py\", line 3012, in _parsed_pkg_info\n",
      "    return self._pkg_info\n",
      "  File \"C:\\Users\\l\\anaconda3\\lib\\site-packages\\pip\\_vendor\\pkg_resources\\__init__.py\", line 2815, in __getattr__\n",
      "    raise AttributeError(attr)\n",
      "AttributeError: _pkg_info\n",
      "\n",
      "During handling of the above exception, another exception occurred:\n",
      "\n",
      "Traceback (most recent call last):\n",
      "  File \"C:\\Users\\l\\anaconda3\\lib\\site-packages\\pip\\_internal\\commands\\install.py\", line 512, in _warn_about_conflicts\n",
      "    package_set, _dep_info = check_install_conflicts(to_install)\n",
      "  File \"C:\\Users\\l\\anaconda3\\lib\\site-packages\\pip\\_internal\\operations\\check.py\", line 114, in check_install_conflicts\n",
      "    package_set, _ = create_package_set_from_installed()\n",
      "  File \"C:\\Users\\l\\anaconda3\\lib\\site-packages\\pip\\_internal\\operations\\check.py\", line 53, in create_package_set_from_installed\n",
      "    package_set[name] = PackageDetails(dist.version, dist.requires())\n",
      "  File \"C:\\Users\\l\\anaconda3\\lib\\site-packages\\pip\\_vendor\\pkg_resources\\__init__.py\", line 2736, in requires\n",
      "    dm = self._dep_map\n",
      "  File \"C:\\Users\\l\\anaconda3\\lib\\site-packages\\pip\\_vendor\\pkg_resources\\__init__.py\", line 3023, in _dep_map\n",
      "    self.__dep_map = self._compute_dependencies()\n",
      "  File \"C:\\Users\\l\\anaconda3\\lib\\site-packages\\pip\\_vendor\\pkg_resources\\__init__.py\", line 3032, in _compute_dependencies\n",
      "    for req in self._parsed_pkg_info.get_all('Requires-Dist') or []:\n",
      "  File \"C:\\Users\\l\\anaconda3\\lib\\site-packages\\pip\\_vendor\\pkg_resources\\__init__.py\", line 3014, in _parsed_pkg_info\n",
      "    metadata = self.get_metadata(self.PKG_INFO)\n",
      "  File \"C:\\Users\\l\\anaconda3\\lib\\site-packages\\pip\\_vendor\\pkg_resources\\__init__.py\", line 1420, in get_metadata\n",
      "    value = self._get(path)\n",
      "  File \"C:\\Users\\l\\anaconda3\\lib\\site-packages\\pip\\_vendor\\pkg_resources\\__init__.py\", line 1616, in _get\n",
      "    with open(path, 'rb') as stream:\n",
      "FileNotFoundError: [Errno 2] No such file or directory: 'c:\\\\users\\\\l\\\\anaconda3\\\\lib\\\\site-packages\\\\nbconvert-5.6.1.dist-info\\\\METADATA'\n"
     ]
    },
    {
     "name": "stdout",
     "output_type": "stream",
     "text": [
      "\n",
      "Requirement already satisfied: setuptools>=40.4 in c:\\users\\l\\anaconda3\\lib\\site-packages (from xarray; python_version >= \"3.0\"->dtale) (49.2.0.post20200714)\n",
      "Requirement already satisfied: joblib>=0.11 in c:\\users\\l\\anaconda3\\lib\\site-packages (from scikit-learn->dtale) (1.0.0)\n",
      "Requirement already satisfied: threadpoolctl>=2.0.0 in c:\\users\\l\\anaconda3\\lib\\site-packages (from scikit-learn->dtale) (2.1.0)\n",
      "Requirement already satisfied: patsy>=0.5 in c:\\users\\l\\anaconda3\\lib\\site-packages (from statsmodels; python_version > \"3.0\"->dtale) (0.5.1)\n",
      "Requirement already satisfied: retrying>=1.3.3 in c:\\users\\l\\anaconda3\\lib\\site-packages (from plotly>=4.9.0->dtale) (1.3.3)\n",
      "Requirement already satisfied: Jinja2>=2.10.1 in c:\\users\\l\\anaconda3\\lib\\site-packages (from Flask>=1.0->dtale) (2.11.2)\n",
      "Requirement already satisfied: click>=5.1 in c:\\users\\l\\anaconda3\\lib\\site-packages (from Flask>=1.0->dtale) (7.1.2)\n",
      "Requirement already satisfied: Werkzeug>=0.15 in c:\\users\\l\\anaconda3\\lib\\site-packages (from Flask>=1.0->dtale) (1.0.1)\n",
      "Requirement already satisfied: decorator<5,>=4.3 in c:\\users\\l\\anaconda3\\lib\\site-packages (from networkx; python_version >= \"3.0\"->dtale) (4.4.2)\n",
      "Requirement already satisfied: brotli in c:\\users\\l\\anaconda3\\lib\\site-packages (from Flask-Compress->dtale) (1.0.9)\n",
      "Requirement already satisfied: et-xmlfile in c:\\users\\l\\anaconda3\\lib\\site-packages (from openpyxl; python_version >= \"3.0\"->dtale) (1.0.1)\n",
      "Requirement already satisfied: jdcal in c:\\users\\l\\anaconda3\\lib\\site-packages (from openpyxl; python_version >= \"3.0\"->dtale) (1.4.1)\n",
      "Requirement already satisfied: pillow>=6.2.0 in c:\\users\\l\\anaconda3\\lib\\site-packages (from matplotlib>=2.2->seaborn; python_version >= \"3.6\"->dtale) (7.2.0)\n",
      "Requirement already satisfied: cycler>=0.10 in c:\\users\\l\\anaconda3\\lib\\site-packages (from matplotlib>=2.2->seaborn; python_version >= \"3.6\"->dtale) (0.10.0)\n",
      "Requirement already satisfied: pyparsing>=2.2.1 in c:\\users\\l\\anaconda3\\lib\\site-packages (from matplotlib>=2.2->seaborn; python_version >= \"3.6\"->dtale) (2.4.7)\n",
      "Requirement already satisfied: kiwisolver>=1.0.1 in c:\\users\\l\\anaconda3\\lib\\site-packages (from matplotlib>=2.2->seaborn; python_version >= \"3.6\"->dtale) (1.2.0)\n",
      "Requirement already satisfied: MarkupSafe>=0.23 in c:\\users\\l\\anaconda3\\lib\\site-packages (from Jinja2>=2.10.1->Flask>=1.0->dtale) (1.1.1)\n"
     ]
    }
   ],
   "source": [
    "!pip install dtale"
   ]
  },
  {
   "cell_type": "code",
   "execution_count": 6,
   "metadata": {},
   "outputs": [
    {
     "name": "stderr",
     "output_type": "stream",
     "text": [
      "2021-04-23 10:02:18,781 - INFO     - NumExpr defaulting to 8 threads.\n"
     ]
    },
    {
     "data": {
      "text/html": [
       "\n",
       "        <iframe\n",
       "            width=\"100%\"\n",
       "            height=\"475\"\n",
       "            src=\"http://DESKTOP-QNLU4MN:40000/dtale/iframe/1\"\n",
       "            frameborder=\"0\"\n",
       "            allowfullscreen\n",
       "        ></iframe>\n",
       "        "
      ],
      "text/plain": [
       "<IPython.lib.display.IFrame at 0x239ff45dca0>"
      ]
     },
     "metadata": {},
     "output_type": "display_data"
    },
    {
     "data": {
      "text/plain": []
     },
     "execution_count": 6,
     "metadata": {},
     "output_type": "execute_result"
    }
   ],
   "source": [
    "import dtale\n",
    "dtale.show(df)"
   ]
  },
  {
   "cell_type": "markdown",
   "metadata": {},
   "source": [
    "# pandas-profiling"
   ]
  },
  {
   "cell_type": "code",
   "execution_count": 8,
   "metadata": {},
   "outputs": [],
   "source": [
    "import seaborn as sns\n",
    "df1=sns.load_dataset('tips')"
   ]
  },
  {
   "cell_type": "code",
   "execution_count": 10,
   "metadata": {},
   "outputs": [
    {
     "name": "stdout",
     "output_type": "stream",
     "text": [
      "Collecting pandas_profiling\n",
      "  Downloading pandas_profiling-2.11.0-py2.py3-none-any.whl (243 kB)\n",
      "Collecting visions[type_image_path]==0.6.0\n",
      "  Downloading visions-0.6.0-py3-none-any.whl (75 kB)\n",
      "Requirement already satisfied: joblib in c:\\users\\l\\anaconda3\\lib\\site-packages (from pandas_profiling) (1.0.0)\n",
      "Requirement already satisfied: missingno>=0.4.2 in c:\\users\\l\\anaconda3\\lib\\site-packages (from pandas_profiling) (0.4.2)\n",
      "Collecting tangled-up-in-unicode>=0.0.6\n",
      "  Downloading tangled_up_in_unicode-0.0.7-py3-none-any.whl (3.1 MB)\n",
      "Requirement already satisfied: ipywidgets>=7.5.1 in c:\\users\\l\\anaconda3\\lib\\site-packages (from pandas_profiling) (7.5.1)\n",
      "Requirement already satisfied: numpy>=1.16.0 in c:\\users\\l\\anaconda3\\lib\\site-packages (from pandas_profiling) (1.19.1)\n",
      "Requirement already satisfied: attrs>=19.3.0 in c:\\users\\l\\anaconda3\\lib\\site-packages (from pandas_profiling) (19.3.0)\n",
      "Requirement already satisfied: requests>=2.24.0 in c:\\users\\l\\anaconda3\\lib\\site-packages (from pandas_profiling) (2.24.0)\n",
      "Collecting phik>=0.10.0\n",
      "  Downloading phik-0.11.2.tar.gz (1.1 MB)\n",
      "Requirement already satisfied: jinja2>=2.11.1 in c:\\users\\l\\anaconda3\\lib\\site-packages (from pandas_profiling) (2.11.2)\n",
      "Requirement already satisfied: seaborn>=0.10.1 in c:\\users\\l\\anaconda3\\lib\\site-packages (from pandas_profiling) (0.11.1)\n",
      "Requirement already satisfied: scipy>=1.4.1 in c:\\users\\l\\anaconda3\\lib\\site-packages (from pandas_profiling) (1.5.4)\n",
      "Collecting htmlmin>=0.1.12\n",
      "  Downloading htmlmin-0.1.12.tar.gz (19 kB)\n",
      "Requirement already satisfied: matplotlib>=3.2.0 in c:\\users\\l\\anaconda3\\lib\\site-packages (from pandas_profiling) (3.4.1)\n",
      "Requirement already satisfied: pandas!=1.0.0,!=1.0.1,!=1.0.2,!=1.1.0,>=0.25.3 in c:\\users\\l\\anaconda3\\lib\\site-packages (from pandas_profiling) (1.2.4)\n",
      "Requirement already satisfied: tqdm>=4.48.2 in c:\\users\\l\\anaconda3\\lib\\site-packages (from pandas_profiling) (4.56.0)\n",
      "Collecting confuse>=1.0.0\n",
      "  Downloading confuse-1.4.0-py2.py3-none-any.whl (21 kB)\n",
      "Requirement already satisfied: networkx>=2.4 in c:\\users\\l\\anaconda3\\lib\\site-packages (from visions[type_image_path]==0.6.0->pandas_profiling) (2.5.1)\n",
      "Requirement already satisfied: Pillow; extra == \"type_image_path\" in c:\\users\\l\\anaconda3\\lib\\site-packages (from visions[type_image_path]==0.6.0->pandas_profiling) (7.2.0)\n",
      "Collecting imagehash; extra == \"type_image_path\"\n",
      "  Downloading ImageHash-4.2.0-py2.py3-none-any.whl (295 kB)\n",
      "Requirement already satisfied: ipykernel>=4.5.1 in c:\\users\\l\\anaconda3\\lib\\site-packages (from ipywidgets>=7.5.1->pandas_profiling) (5.3.2)\n",
      "Requirement already satisfied: traitlets>=4.3.1 in c:\\users\\l\\anaconda3\\lib\\site-packages (from ipywidgets>=7.5.1->pandas_profiling) (4.3.3)\n",
      "Requirement already satisfied: ipython>=4.0.0; python_version >= \"3.3\" in c:\\users\\l\\anaconda3\\lib\\site-packages (from ipywidgets>=7.5.1->pandas_profiling) (7.16.1)\n",
      "Requirement already satisfied: nbformat>=4.2.0 in c:\\users\\l\\anaconda3\\lib\\site-packages (from ipywidgets>=7.5.1->pandas_profiling) (5.0.7)\n",
      "Requirement already satisfied: widgetsnbextension~=3.5.0 in c:\\users\\l\\anaconda3\\lib\\site-packages (from ipywidgets>=7.5.1->pandas_profiling) (3.5.1)\n",
      "Requirement already satisfied: urllib3!=1.25.0,!=1.25.1,<1.26,>=1.21.1 in c:\\users\\l\\anaconda3\\lib\\site-packages (from requests>=2.24.0->pandas_profiling) (1.25.9)\n",
      "Requirement already satisfied: idna<3,>=2.5 in c:\\users\\l\\anaconda3\\lib\\site-packages (from requests>=2.24.0->pandas_profiling) (2.10)\n",
      "Requirement already satisfied: chardet<4,>=3.0.2 in c:\\users\\l\\anaconda3\\lib\\site-packages (from requests>=2.24.0->pandas_profiling) (3.0.4)\n",
      "Requirement already satisfied: certifi>=2017.4.17 in c:\\users\\l\\anaconda3\\lib\\site-packages (from requests>=2.24.0->pandas_profiling) (2020.6.20)\n",
      "Requirement already satisfied: MarkupSafe>=0.23 in c:\\users\\l\\anaconda3\\lib\\site-packages (from jinja2>=2.11.1->pandas_profiling) (1.1.1)\n",
      "Requirement already satisfied: pyparsing>=2.2.1 in c:\\users\\l\\anaconda3\\lib\\site-packages (from matplotlib>=3.2.0->pandas_profiling) (2.4.7)\n",
      "Requirement already satisfied: kiwisolver>=1.0.1 in c:\\users\\l\\anaconda3\\lib\\site-packages (from matplotlib>=3.2.0->pandas_profiling) (1.2.0)\n",
      "Requirement already satisfied: python-dateutil>=2.7 in c:\\users\\l\\anaconda3\\lib\\site-packages (from matplotlib>=3.2.0->pandas_profiling) (2.8.1)\n",
      "Requirement already satisfied: cycler>=0.10 in c:\\users\\l\\anaconda3\\lib\\site-packages (from matplotlib>=3.2.0->pandas_profiling) (0.10.0)\n",
      "Requirement already satisfied: pytz>=2017.3 in c:\\users\\l\\anaconda3\\lib\\site-packages (from pandas!=1.0.0,!=1.0.1,!=1.0.2,!=1.1.0,>=0.25.3->pandas_profiling) (2020.1)\n",
      "Requirement already satisfied: pyyaml in c:\\users\\l\\anaconda3\\lib\\site-packages (from confuse>=1.0.0->pandas_profiling) (5.3.1)\n",
      "Requirement already satisfied: decorator<5,>=4.3 in c:\\users\\l\\anaconda3\\lib\\site-packages (from networkx>=2.4->visions[type_image_path]==0.6.0->pandas_profiling) (4.4.2)\n",
      "Requirement already satisfied: PyWavelets in c:\\users\\l\\anaconda3\\lib\\site-packages (from imagehash; extra == \"type_image_path\"->visions[type_image_path]==0.6.0->pandas_profiling) (1.1.1)\n",
      "Requirement already satisfied: six in c:\\users\\l\\anaconda3\\lib\\site-packages (from imagehash; extra == \"type_image_path\"->visions[type_image_path]==0.6.0->pandas_profiling) (1.15.0)\n",
      "Requirement already satisfied: jupyter-client in c:\\users\\l\\anaconda3\\lib\\site-packages (from ipykernel>=4.5.1->ipywidgets>=7.5.1->pandas_profiling) (6.1.6)\n",
      "Requirement already satisfied: tornado>=4.2 in c:\\users\\l\\anaconda3\\lib\\site-packages (from ipykernel>=4.5.1->ipywidgets>=7.5.1->pandas_profiling) (6.0.4)\n",
      "Requirement already satisfied: ipython-genutils in c:\\users\\l\\anaconda3\\lib\\site-packages (from traitlets>=4.3.1->ipywidgets>=7.5.1->pandas_profiling) (0.2.0)\n",
      "Requirement already satisfied: prompt-toolkit!=3.0.0,!=3.0.1,<3.1.0,>=2.0.0 in c:\\users\\l\\anaconda3\\lib\\site-packages (from ipython>=4.0.0; python_version >= \"3.3\"->ipywidgets>=7.5.1->pandas_profiling) (3.0.5)\n",
      "Requirement already satisfied: setuptools>=18.5 in c:\\users\\l\\anaconda3\\lib\\site-packages (from ipython>=4.0.0; python_version >= \"3.3\"->ipywidgets>=7.5.1->pandas_profiling) (49.2.0.post20200714)\n",
      "Requirement already satisfied: backcall in c:\\users\\l\\anaconda3\\lib\\site-packages (from ipython>=4.0.0; python_version >= \"3.3\"->ipywidgets>=7.5.1->pandas_profiling) (0.2.0)\n",
      "Requirement already satisfied: jedi>=0.10 in c:\\users\\l\\anaconda3\\lib\\site-packages (from ipython>=4.0.0; python_version >= \"3.3\"->ipywidgets>=7.5.1->pandas_profiling) (0.17.1)\n",
      "Requirement already satisfied: pickleshare in c:\\users\\l\\anaconda3\\lib\\site-packages (from ipython>=4.0.0; python_version >= \"3.3\"->ipywidgets>=7.5.1->pandas_profiling) (0.7.5)\n",
      "Requirement already satisfied: colorama; sys_platform == \"win32\" in c:\\users\\l\\anaconda3\\lib\\site-packages (from ipython>=4.0.0; python_version >= \"3.3\"->ipywidgets>=7.5.1->pandas_profiling) (0.4.3)\n",
      "Requirement already satisfied: pygments in c:\\users\\l\\anaconda3\\lib\\site-packages (from ipython>=4.0.0; python_version >= \"3.3\"->ipywidgets>=7.5.1->pandas_profiling) (2.6.1)\n",
      "Requirement already satisfied: jupyter-core in c:\\users\\l\\anaconda3\\lib\\site-packages (from nbformat>=4.2.0->ipywidgets>=7.5.1->pandas_profiling) (4.6.3)\n",
      "Requirement already satisfied: jsonschema!=2.5.0,>=2.4 in c:\\users\\l\\anaconda3\\lib\\site-packages (from nbformat>=4.2.0->ipywidgets>=7.5.1->pandas_profiling) (3.2.0)\n",
      "Requirement already satisfied: notebook>=4.4.1 in c:\\users\\l\\anaconda3\\lib\\site-packages (from widgetsnbextension~=3.5.0->ipywidgets>=7.5.1->pandas_profiling) (6.0.3)\n",
      "Requirement already satisfied: pyzmq>=13 in c:\\users\\l\\anaconda3\\lib\\site-packages (from jupyter-client->ipykernel>=4.5.1->ipywidgets>=7.5.1->pandas_profiling) (19.0.1)\n",
      "Requirement already satisfied: wcwidth in c:\\users\\l\\anaconda3\\lib\\site-packages (from prompt-toolkit!=3.0.0,!=3.0.1,<3.1.0,>=2.0.0->ipython>=4.0.0; python_version >= \"3.3\"->ipywidgets>=7.5.1->pandas_profiling) (0.2.5)\n",
      "Requirement already satisfied: parso<0.8.0,>=0.7.0 in c:\\users\\l\\anaconda3\\lib\\site-packages (from jedi>=0.10->ipython>=4.0.0; python_version >= \"3.3\"->ipywidgets>=7.5.1->pandas_profiling) (0.7.0)\n",
      "Requirement already satisfied: pywin32>=1.0; sys_platform == \"win32\" in c:\\users\\l\\anaconda3\\lib\\site-packages (from jupyter-core->nbformat>=4.2.0->ipywidgets>=7.5.1->pandas_profiling) (227)\n",
      "Requirement already satisfied: pyrsistent>=0.14.0 in c:\\users\\l\\anaconda3\\lib\\site-packages (from jsonschema!=2.5.0,>=2.4->nbformat>=4.2.0->ipywidgets>=7.5.1->pandas_profiling) (0.16.0)\n",
      "Requirement already satisfied: terminado>=0.8.1 in c:\\users\\l\\anaconda3\\lib\\site-packages (from notebook>=4.4.1->widgetsnbextension~=3.5.0->ipywidgets>=7.5.1->pandas_profiling) (0.8.3)\n",
      "Requirement already satisfied: prometheus-client in c:\\users\\l\\anaconda3\\lib\\site-packages (from notebook>=4.4.1->widgetsnbextension~=3.5.0->ipywidgets>=7.5.1->pandas_profiling) (0.8.0)\n",
      "Requirement already satisfied: Send2Trash in c:\\users\\l\\anaconda3\\lib\\site-packages (from notebook>=4.4.1->widgetsnbextension~=3.5.0->ipywidgets>=7.5.1->pandas_profiling) (1.5.0)\n",
      "Requirement already satisfied: nbconvert in c:\\users\\l\\anaconda3\\lib\\site-packages (from notebook>=4.4.1->widgetsnbextension~=3.5.0->ipywidgets>=7.5.1->pandas_profiling) (6.0.7)\n",
      "Requirement already satisfied: defusedxml in c:\\users\\l\\anaconda3\\lib\\site-packages (from nbconvert->notebook>=4.4.1->widgetsnbextension~=3.5.0->ipywidgets>=7.5.1->pandas_profiling) (0.6.0)\n",
      "Requirement already satisfied: testpath in c:\\users\\l\\anaconda3\\lib\\site-packages (from nbconvert->notebook>=4.4.1->widgetsnbextension~=3.5.0->ipywidgets>=7.5.1->pandas_profiling) (0.4.4)\n",
      "Requirement already satisfied: bleach in c:\\users\\l\\anaconda3\\lib\\site-packages (from nbconvert->notebook>=4.4.1->widgetsnbextension~=3.5.0->ipywidgets>=7.5.1->pandas_profiling) (3.1.5)\n",
      "Requirement already satisfied: mistune<2,>=0.8.1 in c:\\users\\l\\anaconda3\\lib\\site-packages (from nbconvert->notebook>=4.4.1->widgetsnbextension~=3.5.0->ipywidgets>=7.5.1->pandas_profiling) (0.8.4)\n",
      "Requirement already satisfied: nbclient<0.6.0,>=0.5.0 in c:\\users\\l\\anaconda3\\lib\\site-packages (from nbconvert->notebook>=4.4.1->widgetsnbextension~=3.5.0->ipywidgets>=7.5.1->pandas_profiling) (0.5.3)\n",
      "Requirement already satisfied: jupyterlab-pygments in c:\\users\\l\\anaconda3\\lib\\site-packages (from nbconvert->notebook>=4.4.1->widgetsnbextension~=3.5.0->ipywidgets>=7.5.1->pandas_profiling) (0.1.2)\n",
      "Requirement already satisfied: entrypoints>=0.2.2 in c:\\users\\l\\anaconda3\\lib\\site-packages (from nbconvert->notebook>=4.4.1->widgetsnbextension~=3.5.0->ipywidgets>=7.5.1->pandas_profiling) (0.3)\n",
      "Requirement already satisfied: pandocfilters>=1.4.1 in c:\\users\\l\\anaconda3\\lib\\site-packages (from nbconvert->notebook>=4.4.1->widgetsnbextension~=3.5.0->ipywidgets>=7.5.1->pandas_profiling) (1.4.2)\n",
      "Requirement already satisfied: webencodings in c:\\users\\l\\anaconda3\\lib\\site-packages (from bleach->nbconvert->notebook>=4.4.1->widgetsnbextension~=3.5.0->ipywidgets>=7.5.1->pandas_profiling) (0.5.1)\n",
      "Requirement already satisfied: packaging in c:\\users\\l\\anaconda3\\lib\\site-packages (from bleach->nbconvert->notebook>=4.4.1->widgetsnbextension~=3.5.0->ipywidgets>=7.5.1->pandas_profiling) (20.4)\n",
      "Requirement already satisfied: nest-asyncio in c:\\users\\l\\anaconda3\\lib\\site-packages (from nbclient<0.6.0,>=0.5.0->nbconvert->notebook>=4.4.1->widgetsnbextension~=3.5.0->ipywidgets>=7.5.1->pandas_profiling) (1.5.1)\n",
      "Requirement already satisfied: async-generator in c:\\users\\l\\anaconda3\\lib\\site-packages (from nbclient<0.6.0,>=0.5.0->nbconvert->notebook>=4.4.1->widgetsnbextension~=3.5.0->ipywidgets>=7.5.1->pandas_profiling) (1.10)\n",
      "Building wheels for collected packages: phik, htmlmin\n",
      "  Building wheel for phik (setup.py): started\n",
      "  Building wheel for phik (setup.py): finished with status 'done'\n",
      "  Created wheel for phik: filename=phik-0.11.2-py3-none-any.whl size=1107421 sha256=ea8fd577d28f742e5294349b58773434f87100363ef4d88aea8fd254fe28e1e4\n",
      "  Stored in directory: c:\\users\\l\\appdata\\local\\pip\\cache\\wheels\\72\\9a\\23\\097c93fd8341220d92674891b6a9a30f0e389719d9b7291bd2\n",
      "  Building wheel for htmlmin (setup.py): started\n",
      "  Building wheel for htmlmin (setup.py): finished with status 'done'\n",
      "  Created wheel for htmlmin: filename=htmlmin-0.1.12-py3-none-any.whl size=27090 sha256=82d843b4770aa544fdc49d44108a366111395687c06065c38baa279885e8ccf4\n",
      "  Stored in directory: c:\\users\\l\\appdata\\local\\pip\\cache\\wheels\\23\\14\\6e\\4be5bfeeb027f4939a01764b48edd5996acf574b0913fe5243\n",
      "Successfully built phik htmlmin\n",
      "Installing collected packages: tangled-up-in-unicode, imagehash, visions, phik, htmlmin, confuse, pandas-profiling\n",
      "Successfully installed confuse-1.4.0 htmlmin-0.1.12 imagehash-4.2.0 pandas-profiling-2.11.0 phik-0.11.2 tangled-up-in-unicode-0.0.7 visions-0.6.0\n"
     ]
    }
   ],
   "source": [
    "!pip install pandas_profiling"
   ]
  },
  {
   "cell_type": "code",
   "execution_count": 11,
   "metadata": {},
   "outputs": [
    {
     "data": {
      "application/vnd.jupyter.widget-view+json": {
       "model_id": "aafbe59dc76c45768b6409d45c7ef98e",
       "version_major": 2,
       "version_minor": 0
      },
      "text/plain": [
       "Summarize dataset:   0%|          | 0/20 [00:00<?, ?it/s]"
      ]
     },
     "metadata": {},
     "output_type": "display_data"
    },
    {
     "data": {
      "application/vnd.jupyter.widget-view+json": {
       "model_id": "d9279d6eb53e4741912c281fdb8f9409",
       "version_major": 2,
       "version_minor": 0
      },
      "text/plain": [
       "Generate report structure:   0%|          | 0/1 [00:00<?, ?it/s]"
      ]
     },
     "metadata": {},
     "output_type": "display_data"
    },
    {
     "data": {
      "application/vnd.jupyter.widget-view+json": {
       "model_id": "0b8cf7334af64ae0ac6d8c421def4c98",
       "version_major": 2,
       "version_minor": 0
      },
      "text/plain": [
       "Render HTML:   0%|          | 0/1 [00:00<?, ?it/s]"
      ]
     },
     "metadata": {},
     "output_type": "display_data"
    },
    {
     "data": {
      "application/vnd.jupyter.widget-view+json": {
       "model_id": "79623aaa87d1407a8135372c0962822b",
       "version_major": 2,
       "version_minor": 0
      },
      "text/plain": [
       "Export report to file:   0%|          | 0/1 [00:00<?, ?it/s]"
      ]
     },
     "metadata": {},
     "output_type": "display_data"
    }
   ],
   "source": [
    "from pandas_profiling  import ProfileReport\n",
    "profile=ProfileReport(df1,explorative=True)\n",
    "profile.to_file('output.html')"
   ]
  },
  {
   "cell_type": "code",
   "execution_count": null,
   "metadata": {},
   "outputs": [],
   "source": []
  },
  {
   "cell_type": "code",
   "execution_count": null,
   "metadata": {},
   "outputs": [],
   "source": []
  },
  {
   "cell_type": "code",
   "execution_count": null,
   "metadata": {},
   "outputs": [],
   "source": []
  },
  {
   "cell_type": "markdown",
   "metadata": {},
   "source": [
    "# sweetviz"
   ]
  },
  {
   "cell_type": "code",
   "execution_count": 12,
   "metadata": {},
   "outputs": [
    {
     "name": "stdout",
     "output_type": "stream",
     "text": [
      "Collecting sweetviz\n",
      "  Downloading sweetviz-2.1.0-py3-none-any.whl (15.1 MB)\n",
      "Requirement already satisfied: matplotlib>=3.1.3 in c:\\users\\l\\anaconda3\\lib\\site-packages (from sweetviz) (3.4.1)\n",
      "Requirement already satisfied: tqdm>=4.43.0 in c:\\users\\l\\anaconda3\\lib\\site-packages (from sweetviz) (4.56.0)\n",
      "Requirement already satisfied: pandas!=1.0.0,!=1.0.1,!=1.0.2,>=0.25.3 in c:\\users\\l\\anaconda3\\lib\\site-packages (from sweetviz) (1.2.4)\n",
      "Requirement already satisfied: numpy>=1.16.0 in c:\\users\\l\\anaconda3\\lib\\site-packages (from sweetviz) (1.19.1)\n",
      "Requirement already satisfied: scipy>=1.3.2 in c:\\users\\l\\anaconda3\\lib\\site-packages (from sweetviz) (1.5.4)\n",
      "Requirement already satisfied: jinja2>=2.11.1 in c:\\users\\l\\anaconda3\\lib\\site-packages (from sweetviz) (2.11.2)\n",
      "Collecting importlib-resources>=1.2.0\n",
      "  Downloading importlib_resources-5.1.2-py3-none-any.whl (25 kB)\n",
      "Requirement already satisfied: pillow>=6.2.0 in c:\\users\\l\\anaconda3\\lib\\site-packages (from matplotlib>=3.1.3->sweetviz) (7.2.0)\n",
      "Requirement already satisfied: cycler>=0.10 in c:\\users\\l\\anaconda3\\lib\\site-packages (from matplotlib>=3.1.3->sweetviz) (0.10.0)\n",
      "Requirement already satisfied: kiwisolver>=1.0.1 in c:\\users\\l\\anaconda3\\lib\\site-packages (from matplotlib>=3.1.3->sweetviz) (1.2.0)\n",
      "Requirement already satisfied: python-dateutil>=2.7 in c:\\users\\l\\anaconda3\\lib\\site-packages (from matplotlib>=3.1.3->sweetviz) (2.8.1)\n",
      "Requirement already satisfied: pyparsing>=2.2.1 in c:\\users\\l\\anaconda3\\lib\\site-packages (from matplotlib>=3.1.3->sweetviz) (2.4.7)\n",
      "Requirement already satisfied: pytz>=2017.3 in c:\\users\\l\\anaconda3\\lib\\site-packages (from pandas!=1.0.0,!=1.0.1,!=1.0.2,>=0.25.3->sweetviz) (2020.1)\n",
      "Requirement already satisfied: MarkupSafe>=0.23 in c:\\users\\l\\anaconda3\\lib\\site-packages (from jinja2>=2.11.1->sweetviz) (1.1.1)\n",
      "Requirement already satisfied: six in c:\\users\\l\\anaconda3\\lib\\site-packages (from cycler>=0.10->matplotlib>=3.1.3->sweetviz) (1.15.0)\n",
      "Installing collected packages: importlib-resources, sweetviz\n",
      "Successfully installed importlib-resources-5.1.2 sweetviz-2.1.0\n"
     ]
    }
   ],
   "source": [
    "!pip install sweetviz"
   ]
  },
  {
   "cell_type": "code",
   "execution_count": 13,
   "metadata": {},
   "outputs": [
    {
     "data": {
      "application/vnd.jupyter.widget-view+json": {
       "model_id": "dfba09ed47c24fd5b50d633095dea0ea",
       "version_major": 2,
       "version_minor": 0
      },
      "text/plain": [
       "                                             |          | [  0%]   00:00 -> (? left)"
      ]
     },
     "metadata": {},
     "output_type": "display_data"
    },
    {
     "name": "stdout",
     "output_type": "stream",
     "text": [
      "Report sweet_report.html was generated! NOTEBOOK/COLAB USERS: the web browser MAY not pop up, regardless, the report IS saved in your notebook/colab files.\n"
     ]
    }
   ],
   "source": [
    "import sweetviz as sv\n",
    "report=sv.analyze(df)\n",
    "report.show_html('sweet_report.html')"
   ]
  },
  {
   "cell_type": "code",
   "execution_count": null,
   "metadata": {},
   "outputs": [],
   "source": []
  }
 ],
 "metadata": {
  "kernelspec": {
   "display_name": "Python 3",
   "language": "python",
   "name": "python3"
  },
  "language_info": {
   "codemirror_mode": {
    "name": "ipython",
    "version": 3
   },
   "file_extension": ".py",
   "mimetype": "text/x-python",
   "name": "python",
   "nbconvert_exporter": "python",
   "pygments_lexer": "ipython3",
   "version": "3.8.3"
  }
 },
 "nbformat": 4,
 "nbformat_minor": 4
}
